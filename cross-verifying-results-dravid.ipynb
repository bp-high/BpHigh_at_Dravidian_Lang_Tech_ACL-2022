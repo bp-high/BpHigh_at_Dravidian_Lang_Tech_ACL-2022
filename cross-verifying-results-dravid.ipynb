{
 "cells": [
  {
   "cell_type": "code",
   "execution_count": 1,
   "id": "637a0c6e",
   "metadata": {
    "execution": {
     "iopub.execute_input": "2022-03-12T13:49:28.056456Z",
     "iopub.status.busy": "2022-03-12T13:49:28.054787Z",
     "iopub.status.idle": "2022-03-12T13:49:37.917908Z",
     "shell.execute_reply": "2022-03-12T13:49:37.917213Z",
     "shell.execute_reply.started": "2022-03-10T05:31:23.903755Z"
    },
    "papermill": {
     "duration": 9.890226,
     "end_time": "2022-03-12T13:49:37.918069",
     "exception": false,
     "start_time": "2022-03-12T13:49:28.027843",
     "status": "completed"
    },
    "tags": []
   },
   "outputs": [],
   "source": [
    "from tqdm.auto import tqdm\n",
    "import os\n",
    "\n",
    "import numpy as np\n",
    "import pandas as pd \n",
    "\n",
    "import matplotlib.pyplot as plt\n",
    "import seaborn as sns \n",
    "\n",
    "from sklearn.metrics import roc_auc_score\n",
    "from sklearn.model_selection import train_test_split , StratifiedKFold\n",
    "\n",
    "\n",
    "import tensorflow as tf \n",
    "import tensorflow.keras.backend as K\n",
    "from tensorflow.keras.optimizers import Adam\n",
    "from tensorflow.keras.models import Model, load_model, save_model\n",
    "from tensorflow.keras.callbacks import ModelCheckpoint, EarlyStopping, ReduceLROnPlateau\n",
    "from tensorflow.keras.layers import Input,Dense, LSTM, RNN, Bidirectional, GlobalAveragePooling2D , Dropout, Conv1D, Flatten\n",
    "from tensorflow.keras.utils import to_categorical\n",
    "\n",
    "from transformers import TFAutoModel , AutoTokenizer\n",
    "\n",
    "from sklearn.metrics import classification_report"
   ]
  },
  {
   "cell_type": "code",
   "execution_count": 2,
   "id": "9dc3aaf2",
   "metadata": {
    "execution": {
     "iopub.execute_input": "2022-03-12T13:49:37.960486Z",
     "iopub.status.busy": "2022-03-12T13:49:37.959752Z",
     "iopub.status.idle": "2022-03-12T13:49:38.051335Z",
     "shell.execute_reply": "2022-03-12T13:49:38.050750Z",
     "shell.execute_reply.started": "2022-03-10T05:31:33.257669Z"
    },
    "papermill": {
     "duration": 0.115724,
     "end_time": "2022-03-12T13:49:38.051478",
     "exception": false,
     "start_time": "2022-03-12T13:49:37.935754",
     "status": "completed"
    },
    "tags": []
   },
   "outputs": [],
   "source": [
    "col_names = ['labels','text']\n",
    "df_tamil_mine = pd.read_csv('../input/cross-verifying-results/BpHigh_tamil.tsv',sep ='\\t')\n",
    "df_tamil_en_mine = pd.read_csv('../input/cross-verifying-results/BpHigh_tamil-english.tsv',sep ='\\t')\n",
    "df_tamil_given = pd.read_csv('../input/cross-verifying-results/ta-misogyny-test.csv',names=col_names,sep ='\\t')\n",
    "df_tamil_en_given = pd.read_csv('../input/cross-verifying-results/ta-en-misogyny-test.csv',names=col_names,sep ='\\t')"
   ]
  },
  {
   "cell_type": "code",
   "execution_count": 3,
   "id": "28574e5e",
   "metadata": {
    "execution": {
     "iopub.execute_input": "2022-03-12T13:49:38.088760Z",
     "iopub.status.busy": "2022-03-12T13:49:38.088094Z",
     "iopub.status.idle": "2022-03-12T13:49:38.094266Z",
     "shell.execute_reply": "2022-03-12T13:49:38.094861Z",
     "shell.execute_reply.started": "2022-03-10T05:31:33.333139Z"
    },
    "papermill": {
     "duration": 0.026537,
     "end_time": "2022-03-12T13:49:38.095039",
     "exception": false,
     "start_time": "2022-03-12T13:49:38.068502",
     "status": "completed"
    },
    "tags": []
   },
   "outputs": [],
   "source": [
    "def transform_df_labels(df):\n",
    "    df = df.replace({'Counter-speech':0,\n",
    "                             'Homophobia':1, \n",
    "                             'Hope-Speech':2, \n",
    "                             'Misandry':3, \n",
    "                             'Misogyny':4, \n",
    "                             'None-of-the-above':5, \n",
    "                             'Transphobic':6,\n",
    "                             'Xenophobia':7})\n",
    "    return df"
   ]
  },
  {
   "cell_type": "code",
   "execution_count": 4,
   "id": "7b0d70a0",
   "metadata": {
    "execution": {
     "iopub.execute_input": "2022-03-12T13:49:38.134333Z",
     "iopub.status.busy": "2022-03-12T13:49:38.133657Z",
     "iopub.status.idle": "2022-03-12T13:49:38.154822Z",
     "shell.execute_reply": "2022-03-12T13:49:38.155352Z",
     "shell.execute_reply.started": "2022-03-10T05:31:33.340568Z"
    },
    "papermill": {
     "duration": 0.042214,
     "end_time": "2022-03-12T13:49:38.155516",
     "exception": false,
     "start_time": "2022-03-12T13:49:38.113302",
     "status": "completed"
    },
    "tags": []
   },
   "outputs": [
    {
     "data": {
      "text/html": [
       "<div>\n",
       "<style scoped>\n",
       "    .dataframe tbody tr th:only-of-type {\n",
       "        vertical-align: middle;\n",
       "    }\n",
       "\n",
       "    .dataframe tbody tr th {\n",
       "        vertical-align: top;\n",
       "    }\n",
       "\n",
       "    .dataframe thead th {\n",
       "        text-align: right;\n",
       "    }\n",
       "</style>\n",
       "<table border=\"1\" class=\"dataframe\">\n",
       "  <thead>\n",
       "    <tr style=\"text-align: right;\">\n",
       "      <th></th>\n",
       "      <th>Unnamed: 0</th>\n",
       "      <th>text</th>\n",
       "      <th>label</th>\n",
       "    </tr>\n",
       "  </thead>\n",
       "  <tbody>\n",
       "    <tr>\n",
       "      <th>0</th>\n",
       "      <td>0</td>\n",
       "      <td>அந்த தமிழன் ஒரு சாதிவெறி</td>\n",
       "      <td>None-of-the-above</td>\n",
       "    </tr>\n",
       "    <tr>\n",
       "      <th>1</th>\n",
       "      <td>1</td>\n",
       "      <td>இந்த வந்தேரிக்கு தகுந்த பாடம் கற்பிப்பார்கள் த...</td>\n",
       "      <td>None-of-the-above</td>\n",
       "    </tr>\n",
       "    <tr>\n",
       "      <th>2</th>\n",
       "      <td>2</td>\n",
       "      <td>எச்ச ராஜா நீ ஒரு மானங்கெட்ட தாயை விட நீ</td>\n",
       "      <td>Misandry</td>\n",
       "    </tr>\n",
       "    <tr>\n",
       "      <th>3</th>\n",
       "      <td>3</td>\n",
       "      <td>பணம் இருக்கும் இடத்தில் கேட்பது தவறு  இல்லை பண...</td>\n",
       "      <td>None-of-the-above</td>\n",
       "    </tr>\n",
       "    <tr>\n",
       "      <th>4</th>\n",
       "      <td>4</td>\n",
       "      <td>சக தோழியாக நினைத்து ஆதரவு தாருங்கள் நண்பர்களே!...</td>\n",
       "      <td>None-of-the-above</td>\n",
       "    </tr>\n",
       "    <tr>\n",
       "      <th>...</th>\n",
       "      <td>...</td>\n",
       "      <td>...</td>\n",
       "      <td>...</td>\n",
       "    </tr>\n",
       "    <tr>\n",
       "      <th>694</th>\n",
       "      <td>694</td>\n",
       "      <td>சினிவாசன் அய்யாக்கு நன்றி...</td>\n",
       "      <td>None-of-the-above</td>\n",
       "    </tr>\n",
       "    <tr>\n",
       "      <th>695</th>\n",
       "      <td>695</td>\n",
       "      <td>ஊருக்கே தெரியும் அவர் பிராமணன் என்று.அவர் ஒரு தலை</td>\n",
       "      <td>None-of-the-above</td>\n",
       "    </tr>\n",
       "    <tr>\n",
       "      <th>696</th>\n",
       "      <td>696</td>\n",
       "      <td>ஐயா அவர்கள் சரியான விளக்கம் பார்பனர்கள் வேறு ப...</td>\n",
       "      <td>None-of-the-above</td>\n",
       "    </tr>\n",
       "    <tr>\n",
       "      <th>697</th>\n",
       "      <td>697</td>\n",
       "      <td>Nandha Kumar  அட  நாயே; ; வந்தேறி பிராமண   நாய...</td>\n",
       "      <td>Counter-speech</td>\n",
       "    </tr>\n",
       "    <tr>\n",
       "      <th>698</th>\n",
       "      <td>698</td>\n",
       "      <td>Sylvester Justin   நன்றி சுவீட்டி</td>\n",
       "      <td>None-of-the-above</td>\n",
       "    </tr>\n",
       "  </tbody>\n",
       "</table>\n",
       "<p>699 rows × 3 columns</p>\n",
       "</div>"
      ],
      "text/plain": [
       "     Unnamed: 0                                               text  \\\n",
       "0             0                           அந்த தமிழன் ஒரு சாதிவெறி   \n",
       "1             1  இந்த வந்தேரிக்கு தகுந்த பாடம் கற்பிப்பார்கள் த...   \n",
       "2             2            எச்ச ராஜா நீ ஒரு மானங்கெட்ட தாயை விட நீ   \n",
       "3             3  பணம் இருக்கும் இடத்தில் கேட்பது தவறு  இல்லை பண...   \n",
       "4             4  சக தோழியாக நினைத்து ஆதரவு தாருங்கள் நண்பர்களே!...   \n",
       "..          ...                                                ...   \n",
       "694         694                       சினிவாசன் அய்யாக்கு நன்றி...   \n",
       "695         695  ஊருக்கே தெரியும் அவர் பிராமணன் என்று.அவர் ஒரு தலை   \n",
       "696         696  ஐயா அவர்கள் சரியான விளக்கம் பார்பனர்கள் வேறு ப...   \n",
       "697         697  Nandha Kumar  அட  நாயே; ; வந்தேறி பிராமண   நாய...   \n",
       "698         698                  Sylvester Justin   நன்றி சுவீட்டி   \n",
       "\n",
       "                 label  \n",
       "0    None-of-the-above  \n",
       "1    None-of-the-above  \n",
       "2             Misandry  \n",
       "3    None-of-the-above  \n",
       "4    None-of-the-above  \n",
       "..                 ...  \n",
       "694  None-of-the-above  \n",
       "695  None-of-the-above  \n",
       "696  None-of-the-above  \n",
       "697     Counter-speech  \n",
       "698  None-of-the-above  \n",
       "\n",
       "[699 rows x 3 columns]"
      ]
     },
     "execution_count": 4,
     "metadata": {},
     "output_type": "execute_result"
    }
   ],
   "source": [
    "df_tamil_mine"
   ]
  },
  {
   "cell_type": "code",
   "execution_count": 5,
   "id": "e30d6f66",
   "metadata": {
    "execution": {
     "iopub.execute_input": "2022-03-12T13:49:38.210690Z",
     "iopub.status.busy": "2022-03-12T13:49:38.205026Z",
     "iopub.status.idle": "2022-03-12T13:49:38.222614Z",
     "shell.execute_reply": "2022-03-12T13:49:38.223257Z",
     "shell.execute_reply.started": "2022-03-10T05:31:33.37291Z"
    },
    "papermill": {
     "duration": 0.049215,
     "end_time": "2022-03-12T13:49:38.223418",
     "exception": false,
     "start_time": "2022-03-12T13:49:38.174203",
     "status": "completed"
    },
    "tags": []
   },
   "outputs": [
    {
     "name": "stdout",
     "output_type": "stream",
     "text": [
      "<class 'pandas.core.frame.DataFrame'>\n",
      "RangeIndex: 700 entries, 0 to 699\n",
      "Data columns (total 2 columns):\n",
      " #   Column  Non-Null Count  Dtype \n",
      "---  ------  --------------  ----- \n",
      " 0   labels  700 non-null    object\n",
      " 1   text    699 non-null    object\n",
      "dtypes: object(2)\n",
      "memory usage: 11.1+ KB\n"
     ]
    }
   ],
   "source": [
    "df_tamil_given.info()"
   ]
  },
  {
   "cell_type": "code",
   "execution_count": 6,
   "id": "c0ae601b",
   "metadata": {
    "execution": {
     "iopub.execute_input": "2022-03-12T13:49:38.266017Z",
     "iopub.status.busy": "2022-03-12T13:49:38.265364Z",
     "iopub.status.idle": "2022-03-12T13:49:38.268910Z",
     "shell.execute_reply": "2022-03-12T13:49:38.268269Z",
     "shell.execute_reply.started": "2022-03-10T05:31:33.399725Z"
    },
    "papermill": {
     "duration": 0.027155,
     "end_time": "2022-03-12T13:49:38.269036",
     "exception": false,
     "start_time": "2022-03-12T13:49:38.241881",
     "status": "completed"
    },
    "tags": []
   },
   "outputs": [],
   "source": [
    "null_list = df_tamil_given[df_tamil_given['text'].isnull()].index.tolist()"
   ]
  },
  {
   "cell_type": "code",
   "execution_count": 7,
   "id": "ab680053",
   "metadata": {
    "execution": {
     "iopub.execute_input": "2022-03-12T13:49:38.311495Z",
     "iopub.status.busy": "2022-03-12T13:49:38.310804Z",
     "iopub.status.idle": "2022-03-12T13:49:38.315552Z",
     "shell.execute_reply": "2022-03-12T13:49:38.316140Z",
     "shell.execute_reply.started": "2022-03-10T05:31:33.415471Z"
    },
    "papermill": {
     "duration": 0.028667,
     "end_time": "2022-03-12T13:49:38.316317",
     "exception": false,
     "start_time": "2022-03-12T13:49:38.287650",
     "status": "completed"
    },
    "tags": []
   },
   "outputs": [],
   "source": [
    "df_tamil_given.dropna(how='any',axis=0,inplace=True)"
   ]
  },
  {
   "cell_type": "code",
   "execution_count": 8,
   "id": "9c93fce8",
   "metadata": {
    "execution": {
     "iopub.execute_input": "2022-03-12T13:49:38.361279Z",
     "iopub.status.busy": "2022-03-12T13:49:38.360620Z",
     "iopub.status.idle": "2022-03-12T13:49:38.368494Z",
     "shell.execute_reply": "2022-03-12T13:49:38.369079Z",
     "shell.execute_reply.started": "2022-03-10T05:31:33.429021Z"
    },
    "papermill": {
     "duration": 0.034142,
     "end_time": "2022-03-12T13:49:38.369477",
     "exception": false,
     "start_time": "2022-03-12T13:49:38.335335",
     "status": "completed"
    },
    "tags": []
   },
   "outputs": [
    {
     "data": {
      "text/html": [
       "<div>\n",
       "<style scoped>\n",
       "    .dataframe tbody tr th:only-of-type {\n",
       "        vertical-align: middle;\n",
       "    }\n",
       "\n",
       "    .dataframe tbody tr th {\n",
       "        vertical-align: top;\n",
       "    }\n",
       "\n",
       "    .dataframe thead th {\n",
       "        text-align: right;\n",
       "    }\n",
       "</style>\n",
       "<table border=\"1\" class=\"dataframe\">\n",
       "  <thead>\n",
       "    <tr style=\"text-align: right;\">\n",
       "      <th></th>\n",
       "      <th>labels</th>\n",
       "      <th>text</th>\n",
       "    </tr>\n",
       "  </thead>\n",
       "  <tbody>\n",
       "    <tr>\n",
       "      <th>0</th>\n",
       "      <td>Xenophobia</td>\n",
       "      <td>அந்த தமிழன் ஒரு சாதிவெறி</td>\n",
       "    </tr>\n",
       "    <tr>\n",
       "      <th>1</th>\n",
       "      <td>Xenophobia</td>\n",
       "      <td>இந்த வந்தேரிக்கு தகுந்த பாடம் கற்பிப்பார்கள் த...</td>\n",
       "    </tr>\n",
       "    <tr>\n",
       "      <th>2</th>\n",
       "      <td>Misandry</td>\n",
       "      <td>எச்ச ராஜா நீ ஒரு மானங்கெட்ட தாயை விட நீ</td>\n",
       "    </tr>\n",
       "    <tr>\n",
       "      <th>3</th>\n",
       "      <td>Counter-speech</td>\n",
       "      <td>பணம் இருக்கும் இடத்தில் கேட்பது தவறு  இல்லை பண...</td>\n",
       "    </tr>\n",
       "    <tr>\n",
       "      <th>4</th>\n",
       "      <td>None-of-the-above</td>\n",
       "      <td>சக தோழியாக நினைத்து ஆதரவு தாருங்கள் நண்பர்களே!...</td>\n",
       "    </tr>\n",
       "    <tr>\n",
       "      <th>...</th>\n",
       "      <td>...</td>\n",
       "      <td>...</td>\n",
       "    </tr>\n",
       "    <tr>\n",
       "      <th>695</th>\n",
       "      <td>None-of-the-above</td>\n",
       "      <td>சினிவாசன் அய்யாக்கு நன்றி...</td>\n",
       "    </tr>\n",
       "    <tr>\n",
       "      <th>696</th>\n",
       "      <td>None-of-the-above</td>\n",
       "      <td>ஊருக்கே தெரியும் அவர் பிராமணன் என்று.அவர் ஒரு தலை</td>\n",
       "    </tr>\n",
       "    <tr>\n",
       "      <th>697</th>\n",
       "      <td>None-of-the-above</td>\n",
       "      <td>ஐயா அவர்கள் சரியான விளக்கம் பார்பனர்கள் வேறு ப...</td>\n",
       "    </tr>\n",
       "    <tr>\n",
       "      <th>698</th>\n",
       "      <td>Misogyny</td>\n",
       "      <td>Nandha Kumar  அட  நாயே; ; வந்தேறி பிராமண   நாய...</td>\n",
       "    </tr>\n",
       "    <tr>\n",
       "      <th>699</th>\n",
       "      <td>None-of-the-above</td>\n",
       "      <td>Sylvester Justin   நன்றி சுவீட்டி</td>\n",
       "    </tr>\n",
       "  </tbody>\n",
       "</table>\n",
       "<p>699 rows × 2 columns</p>\n",
       "</div>"
      ],
      "text/plain": [
       "                labels                                               text\n",
       "0           Xenophobia                           அந்த தமிழன் ஒரு சாதிவெறி\n",
       "1           Xenophobia  இந்த வந்தேரிக்கு தகுந்த பாடம் கற்பிப்பார்கள் த...\n",
       "2             Misandry            எச்ச ராஜா நீ ஒரு மானங்கெட்ட தாயை விட நீ\n",
       "3       Counter-speech  பணம் இருக்கும் இடத்தில் கேட்பது தவறு  இல்லை பண...\n",
       "4    None-of-the-above  சக தோழியாக நினைத்து ஆதரவு தாருங்கள் நண்பர்களே!...\n",
       "..                 ...                                                ...\n",
       "695  None-of-the-above                       சினிவாசன் அய்யாக்கு நன்றி...\n",
       "696  None-of-the-above  ஊருக்கே தெரியும் அவர் பிராமணன் என்று.அவர் ஒரு தலை\n",
       "697  None-of-the-above  ஐயா அவர்கள் சரியான விளக்கம் பார்பனர்கள் வேறு ப...\n",
       "698           Misogyny  Nandha Kumar  அட  நாயே; ; வந்தேறி பிராமண   நாய...\n",
       "699  None-of-the-above                  Sylvester Justin   நன்றி சுவீட்டி\n",
       "\n",
       "[699 rows x 2 columns]"
      ]
     },
     "execution_count": 8,
     "metadata": {},
     "output_type": "execute_result"
    }
   ],
   "source": [
    "df_tamil_given"
   ]
  },
  {
   "cell_type": "code",
   "execution_count": 9,
   "id": "0ff00651",
   "metadata": {
    "execution": {
     "iopub.execute_input": "2022-03-12T13:49:38.415986Z",
     "iopub.status.busy": "2022-03-12T13:49:38.411813Z",
     "iopub.status.idle": "2022-03-12T13:49:38.419880Z",
     "shell.execute_reply": "2022-03-12T13:49:38.419348Z",
     "shell.execute_reply.started": "2022-03-10T05:31:45.589661Z"
    },
    "papermill": {
     "duration": 0.030579,
     "end_time": "2022-03-12T13:49:38.420013",
     "exception": false,
     "start_time": "2022-03-12T13:49:38.389434",
     "status": "completed"
    },
    "tags": []
   },
   "outputs": [],
   "source": [
    "df_tamil_en_given.dropna(how='any',axis=0,inplace=True)"
   ]
  },
  {
   "cell_type": "code",
   "execution_count": 10,
   "id": "e2b7e65a",
   "metadata": {
    "execution": {
     "iopub.execute_input": "2022-03-12T13:49:38.473501Z",
     "iopub.status.busy": "2022-03-12T13:49:38.472795Z",
     "iopub.status.idle": "2022-03-12T13:49:38.481889Z",
     "shell.execute_reply": "2022-03-12T13:49:38.482270Z",
     "shell.execute_reply.started": "2022-03-10T05:31:46.755672Z"
    },
    "papermill": {
     "duration": 0.041736,
     "end_time": "2022-03-12T13:49:38.482435",
     "exception": false,
     "start_time": "2022-03-12T13:49:38.440699",
     "status": "completed"
    },
    "tags": []
   },
   "outputs": [],
   "source": [
    "df_tamil_mine_transformed = transform_df_labels(df_tamil_mine['label'])\n",
    "df_tamil_given_transformed = transform_df_labels(df_tamil_given['labels'])\n",
    "df_tamil_en_mine_transformed = transform_df_labels(df_tamil_en_mine['label'])\n",
    "df_tamil_en_given_transformed = transform_df_labels(df_tamil_en_given['labels'])\n"
   ]
  },
  {
   "cell_type": "code",
   "execution_count": 11,
   "id": "7729709d",
   "metadata": {
    "execution": {
     "iopub.execute_input": "2022-03-12T13:49:38.515857Z",
     "iopub.status.busy": "2022-03-12T13:49:38.515162Z",
     "iopub.status.idle": "2022-03-12T13:49:38.525635Z",
     "shell.execute_reply": "2022-03-12T13:49:38.526166Z",
     "shell.execute_reply.started": "2022-03-10T05:31:49.369927Z"
    },
    "papermill": {
     "duration": 0.029646,
     "end_time": "2022-03-12T13:49:38.526321",
     "exception": false,
     "start_time": "2022-03-12T13:49:38.496675",
     "status": "completed"
    },
    "tags": []
   },
   "outputs": [
    {
     "name": "stdout",
     "output_type": "stream",
     "text": [
      "                   precision    recall  f1-score   support\n",
      "\n",
      "   Counter-speech       0.13      0.04      0.06        47\n",
      "       Homophobia       0.00      0.00      0.00         8\n",
      "      Hope-Speech       0.00      0.00      0.00        26\n",
      "         Misandry       0.52      0.45      0.48       127\n",
      "         Misogyny       0.00      0.00      0.00        48\n",
      "None-of-the-above       0.68      0.94      0.79       416\n",
      "      Transphobic       0.00      0.00      0.00         2\n",
      "       Xenophobia       0.00      0.00      0.00        25\n",
      "\n",
      "         accuracy                           0.64       699\n",
      "        macro avg       0.17      0.18      0.17       699\n",
      "     weighted avg       0.51      0.64      0.56       699\n",
      "\n"
     ]
    },
    {
     "name": "stderr",
     "output_type": "stream",
     "text": [
      "/opt/conda/lib/python3.7/site-packages/sklearn/metrics/_classification.py:1221: UndefinedMetricWarning: Precision and F-score are ill-defined and being set to 0.0 in labels with no predicted samples. Use `zero_division` parameter to control this behavior.\n",
      "  _warn_prf(average, modifier, msg_start, len(result))\n"
     ]
    }
   ],
   "source": [
    "target_names = ['Counter-speech',\n",
    "                             'Homophobia', \n",
    "                             'Hope-Speech', \n",
    "                             'Misandry', \n",
    "                             'Misogyny', \n",
    "                             'None-of-the-above', \n",
    "                             'Transphobic',\n",
    "                             'Xenophobia']\n",
    "print(classification_report(df_tamil_given_transformed ,df_tamil_mine_transformed,target_names=target_names))"
   ]
  },
  {
   "cell_type": "code",
   "execution_count": 12,
   "id": "68c5575d",
   "metadata": {
    "execution": {
     "iopub.execute_input": "2022-03-12T13:49:38.571085Z",
     "iopub.status.busy": "2022-03-12T13:49:38.570358Z",
     "iopub.status.idle": "2022-03-12T13:49:38.580370Z",
     "shell.execute_reply": "2022-03-12T13:49:38.580929Z",
     "shell.execute_reply.started": "2022-03-10T05:32:18.182134Z"
    },
    "papermill": {
     "duration": 0.034421,
     "end_time": "2022-03-12T13:49:38.581109",
     "exception": false,
     "start_time": "2022-03-12T13:49:38.546688",
     "status": "completed"
    },
    "tags": []
   },
   "outputs": [
    {
     "name": "stdout",
     "output_type": "stream",
     "text": [
      "                   precision    recall  f1-score   support\n",
      "\n",
      "   Counter-speech       0.29      0.18      0.22        88\n",
      "       Homophobia       0.00      0.00      0.00        56\n",
      "      Hope-Speech       0.00      0.00      0.00        70\n",
      "         Misandry       0.54      0.49      0.52       292\n",
      "         Misogyny       0.00      0.00      0.00        57\n",
      "None-of-the-above       0.71      0.95      0.81      1141\n",
      "      Transphobic       0.00      0.00      0.00        58\n",
      "       Xenophobia       0.00      0.00      0.00        95\n",
      "\n",
      "         accuracy                           0.67      1857\n",
      "        macro avg       0.19      0.20      0.19      1857\n",
      "     weighted avg       0.53      0.67      0.59      1857\n",
      "\n"
     ]
    }
   ],
   "source": [
    "print(classification_report(df_tamil_en_given_transformed ,df_tamil_en_mine_transformed,target_names=target_names))"
   ]
  },
  {
   "cell_type": "code",
   "execution_count": null,
   "id": "8be03128",
   "metadata": {
    "papermill": {
     "duration": 0.022885,
     "end_time": "2022-03-12T13:49:38.625746",
     "exception": false,
     "start_time": "2022-03-12T13:49:38.602861",
     "status": "completed"
    },
    "tags": []
   },
   "outputs": [],
   "source": []
  }
 ],
 "metadata": {
  "kernelspec": {
   "display_name": "Python 3",
   "language": "python",
   "name": "python3"
  },
  "language_info": {
   "codemirror_mode": {
    "name": "ipython",
    "version": 3
   },
   "file_extension": ".py",
   "mimetype": "text/x-python",
   "name": "python",
   "nbconvert_exporter": "python",
   "pygments_lexer": "ipython3",
   "version": "3.7.12"
  },
  "papermill": {
   "default_parameters": {},
   "duration": 22.760383,
   "end_time": "2022-03-12T13:49:41.622951",
   "environment_variables": {},
   "exception": null,
   "input_path": "__notebook__.ipynb",
   "output_path": "__notebook__.ipynb",
   "parameters": {},
   "start_time": "2022-03-12T13:49:18.862568",
   "version": "2.3.3"
  }
 },
 "nbformat": 4,
 "nbformat_minor": 5
}
