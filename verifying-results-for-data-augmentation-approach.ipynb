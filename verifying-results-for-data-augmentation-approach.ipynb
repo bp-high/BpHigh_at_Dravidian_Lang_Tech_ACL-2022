{
 "cells": [
  {
   "cell_type": "code",
   "execution_count": 1,
   "id": "45be9dcb",
   "metadata": {
    "execution": {
     "iopub.execute_input": "2022-03-12T13:55:55.651091Z",
     "iopub.status.busy": "2022-03-12T13:55:55.650423Z",
     "iopub.status.idle": "2022-03-12T13:56:05.404168Z",
     "shell.execute_reply": "2022-03-12T13:56:05.402952Z",
     "shell.execute_reply.started": "2022-03-10T05:31:23.903755Z"
    },
    "papermill": {
     "duration": 9.781962,
     "end_time": "2022-03-12T13:56:05.404351",
     "exception": false,
     "start_time": "2022-03-12T13:55:55.622389",
     "status": "completed"
    },
    "tags": []
   },
   "outputs": [],
   "source": [
    "from tqdm.auto import tqdm\n",
    "import os\n",
    "\n",
    "import numpy as np\n",
    "import pandas as pd \n",
    "\n",
    "import matplotlib.pyplot as plt\n",
    "import seaborn as sns \n",
    "\n",
    "from sklearn.metrics import roc_auc_score\n",
    "from sklearn.model_selection import train_test_split , StratifiedKFold\n",
    "\n",
    "\n",
    "import tensorflow as tf \n",
    "import tensorflow.keras.backend as K\n",
    "from tensorflow.keras.optimizers import Adam\n",
    "from tensorflow.keras.models import Model, load_model, save_model\n",
    "from tensorflow.keras.callbacks import ModelCheckpoint, EarlyStopping, ReduceLROnPlateau\n",
    "from tensorflow.keras.layers import Input,Dense, LSTM, RNN, Bidirectional, GlobalAveragePooling2D , Dropout, Conv1D, Flatten\n",
    "from tensorflow.keras.utils import to_categorical\n",
    "\n",
    "from transformers import TFAutoModel , AutoTokenizer\n",
    "\n",
    "from sklearn.metrics import classification_report"
   ]
  },
  {
   "cell_type": "code",
   "execution_count": 2,
   "id": "ae82f88b",
   "metadata": {
    "execution": {
     "iopub.execute_input": "2022-03-12T13:56:05.438298Z",
     "iopub.status.busy": "2022-03-12T13:56:05.437280Z",
     "iopub.status.idle": "2022-03-12T13:56:05.528340Z",
     "shell.execute_reply": "2022-03-12T13:56:05.528927Z",
     "shell.execute_reply.started": "2022-03-10T05:31:33.257669Z"
    },
    "papermill": {
     "duration": 0.109613,
     "end_time": "2022-03-12T13:56:05.529111",
     "exception": false,
     "start_time": "2022-03-12T13:56:05.419498",
     "status": "completed"
    },
    "tags": []
   },
   "outputs": [],
   "source": [
    "col_names = ['labels','text']\n",
    "df_tamil_mine = pd.read_csv('../input/augmented-test-predictions/BpHigh_tamil.tsv',sep ='\\t')\n",
    "df_tamil_en_mine = pd.read_csv('../input/augmented-test-predictions/BpHigh_tamil-english.tsv',sep ='\\t')\n",
    "df_tamil_given = pd.read_csv('../input/cross-verifying-results/ta-misogyny-test.csv',names=col_names,sep ='\\t')\n",
    "df_tamil_en_given = pd.read_csv('../input/cross-verifying-results/ta-en-misogyny-test.csv',names=col_names,sep ='\\t')"
   ]
  },
  {
   "cell_type": "code",
   "execution_count": 3,
   "id": "084ddf2d",
   "metadata": {
    "execution": {
     "iopub.execute_input": "2022-03-12T13:56:05.569412Z",
     "iopub.status.busy": "2022-03-12T13:56:05.568282Z",
     "iopub.status.idle": "2022-03-12T13:56:05.570290Z",
     "shell.execute_reply": "2022-03-12T13:56:05.570947Z",
     "shell.execute_reply.started": "2022-03-10T05:31:33.333139Z"
    },
    "papermill": {
     "duration": 0.023345,
     "end_time": "2022-03-12T13:56:05.571128",
     "exception": false,
     "start_time": "2022-03-12T13:56:05.547783",
     "status": "completed"
    },
    "tags": []
   },
   "outputs": [],
   "source": [
    "def transform_df_labels(df):\n",
    "    df = df.replace({'Counter-speech':0,\n",
    "                             'Homophobia':1, \n",
    "                             'Hope-Speech':2, \n",
    "                             'Misandry':3, \n",
    "                             'Misogyny':4, \n",
    "                             'None-of-the-above':5, \n",
    "                             'Transphobic':6,\n",
    "                             'Xenophobia':7})\n",
    "    return df"
   ]
  },
  {
   "cell_type": "code",
   "execution_count": 4,
   "id": "24515ac5",
   "metadata": {
    "execution": {
     "iopub.execute_input": "2022-03-12T13:56:05.611884Z",
     "iopub.status.busy": "2022-03-12T13:56:05.610892Z",
     "iopub.status.idle": "2022-03-12T13:56:05.626311Z",
     "shell.execute_reply": "2022-03-12T13:56:05.626892Z",
     "shell.execute_reply.started": "2022-03-10T05:31:33.340568Z"
    },
    "papermill": {
     "duration": 0.041704,
     "end_time": "2022-03-12T13:56:05.627079",
     "exception": false,
     "start_time": "2022-03-12T13:56:05.585375",
     "status": "completed"
    },
    "tags": []
   },
   "outputs": [
    {
     "data": {
      "text/html": [
       "<div>\n",
       "<style scoped>\n",
       "    .dataframe tbody tr th:only-of-type {\n",
       "        vertical-align: middle;\n",
       "    }\n",
       "\n",
       "    .dataframe tbody tr th {\n",
       "        vertical-align: top;\n",
       "    }\n",
       "\n",
       "    .dataframe thead th {\n",
       "        text-align: right;\n",
       "    }\n",
       "</style>\n",
       "<table border=\"1\" class=\"dataframe\">\n",
       "  <thead>\n",
       "    <tr style=\"text-align: right;\">\n",
       "      <th></th>\n",
       "      <th>Unnamed: 0</th>\n",
       "      <th>text</th>\n",
       "      <th>label</th>\n",
       "    </tr>\n",
       "  </thead>\n",
       "  <tbody>\n",
       "    <tr>\n",
       "      <th>0</th>\n",
       "      <td>0</td>\n",
       "      <td>அந்த தமிழன் ஒரு சாதிவெறி</td>\n",
       "      <td>None-of-the-above</td>\n",
       "    </tr>\n",
       "    <tr>\n",
       "      <th>1</th>\n",
       "      <td>1</td>\n",
       "      <td>இந்த வந்தேரிக்கு தகுந்த பாடம் கற்பிப்பார்கள் த...</td>\n",
       "      <td>None-of-the-above</td>\n",
       "    </tr>\n",
       "    <tr>\n",
       "      <th>2</th>\n",
       "      <td>2</td>\n",
       "      <td>எச்ச ராஜா நீ ஒரு மானங்கெட்ட தாயை விட நீ</td>\n",
       "      <td>None-of-the-above</td>\n",
       "    </tr>\n",
       "    <tr>\n",
       "      <th>3</th>\n",
       "      <td>3</td>\n",
       "      <td>பணம் இருக்கும் இடத்தில் கேட்பது தவறு  இல்லை பண...</td>\n",
       "      <td>Misandry</td>\n",
       "    </tr>\n",
       "    <tr>\n",
       "      <th>4</th>\n",
       "      <td>4</td>\n",
       "      <td>சக தோழியாக நினைத்து ஆதரவு தாருங்கள் நண்பர்களே!...</td>\n",
       "      <td>None-of-the-above</td>\n",
       "    </tr>\n",
       "    <tr>\n",
       "      <th>...</th>\n",
       "      <td>...</td>\n",
       "      <td>...</td>\n",
       "      <td>...</td>\n",
       "    </tr>\n",
       "    <tr>\n",
       "      <th>694</th>\n",
       "      <td>694</td>\n",
       "      <td>சினிவாசன் அய்யாக்கு நன்றி...</td>\n",
       "      <td>None-of-the-above</td>\n",
       "    </tr>\n",
       "    <tr>\n",
       "      <th>695</th>\n",
       "      <td>695</td>\n",
       "      <td>ஊருக்கே தெரியும் அவர் பிராமணன் என்று.அவர் ஒரு தலை</td>\n",
       "      <td>None-of-the-above</td>\n",
       "    </tr>\n",
       "    <tr>\n",
       "      <th>696</th>\n",
       "      <td>696</td>\n",
       "      <td>ஐயா அவர்கள் சரியான விளக்கம் பார்பனர்கள் வேறு ப...</td>\n",
       "      <td>Counter-speech</td>\n",
       "    </tr>\n",
       "    <tr>\n",
       "      <th>697</th>\n",
       "      <td>697</td>\n",
       "      <td>Nandha Kumar  அட  நாயே; ; வந்தேறி பிராமண   நாய...</td>\n",
       "      <td>Counter-speech</td>\n",
       "    </tr>\n",
       "    <tr>\n",
       "      <th>698</th>\n",
       "      <td>698</td>\n",
       "      <td>Sylvester Justin   நன்றி சுவீட்டி</td>\n",
       "      <td>None-of-the-above</td>\n",
       "    </tr>\n",
       "  </tbody>\n",
       "</table>\n",
       "<p>699 rows × 3 columns</p>\n",
       "</div>"
      ],
      "text/plain": [
       "     Unnamed: 0                                               text  \\\n",
       "0             0                           அந்த தமிழன் ஒரு சாதிவெறி   \n",
       "1             1  இந்த வந்தேரிக்கு தகுந்த பாடம் கற்பிப்பார்கள் த...   \n",
       "2             2            எச்ச ராஜா நீ ஒரு மானங்கெட்ட தாயை விட நீ   \n",
       "3             3  பணம் இருக்கும் இடத்தில் கேட்பது தவறு  இல்லை பண...   \n",
       "4             4  சக தோழியாக நினைத்து ஆதரவு தாருங்கள் நண்பர்களே!...   \n",
       "..          ...                                                ...   \n",
       "694         694                       சினிவாசன் அய்யாக்கு நன்றி...   \n",
       "695         695  ஊருக்கே தெரியும் அவர் பிராமணன் என்று.அவர் ஒரு தலை   \n",
       "696         696  ஐயா அவர்கள் சரியான விளக்கம் பார்பனர்கள் வேறு ப...   \n",
       "697         697  Nandha Kumar  அட  நாயே; ; வந்தேறி பிராமண   நாய...   \n",
       "698         698                  Sylvester Justin   நன்றி சுவீட்டி   \n",
       "\n",
       "                 label  \n",
       "0    None-of-the-above  \n",
       "1    None-of-the-above  \n",
       "2    None-of-the-above  \n",
       "3             Misandry  \n",
       "4    None-of-the-above  \n",
       "..                 ...  \n",
       "694  None-of-the-above  \n",
       "695  None-of-the-above  \n",
       "696     Counter-speech  \n",
       "697     Counter-speech  \n",
       "698  None-of-the-above  \n",
       "\n",
       "[699 rows x 3 columns]"
      ]
     },
     "execution_count": 4,
     "metadata": {},
     "output_type": "execute_result"
    }
   ],
   "source": [
    "df_tamil_mine"
   ]
  },
  {
   "cell_type": "code",
   "execution_count": 5,
   "id": "4c3323d4",
   "metadata": {
    "execution": {
     "iopub.execute_input": "2022-03-12T13:56:05.660740Z",
     "iopub.status.busy": "2022-03-12T13:56:05.659967Z",
     "iopub.status.idle": "2022-03-12T13:56:05.683217Z",
     "shell.execute_reply": "2022-03-12T13:56:05.683761Z",
     "shell.execute_reply.started": "2022-03-10T05:31:33.372910Z"
    },
    "papermill": {
     "duration": 0.041532,
     "end_time": "2022-03-12T13:56:05.683959",
     "exception": false,
     "start_time": "2022-03-12T13:56:05.642427",
     "status": "completed"
    },
    "tags": []
   },
   "outputs": [
    {
     "name": "stdout",
     "output_type": "stream",
     "text": [
      "<class 'pandas.core.frame.DataFrame'>\n",
      "RangeIndex: 700 entries, 0 to 699\n",
      "Data columns (total 2 columns):\n",
      " #   Column  Non-Null Count  Dtype \n",
      "---  ------  --------------  ----- \n",
      " 0   labels  700 non-null    object\n",
      " 1   text    699 non-null    object\n",
      "dtypes: object(2)\n",
      "memory usage: 11.1+ KB\n"
     ]
    }
   ],
   "source": [
    "df_tamil_given.info()"
   ]
  },
  {
   "cell_type": "code",
   "execution_count": 6,
   "id": "573cd2b3",
   "metadata": {
    "execution": {
     "iopub.execute_input": "2022-03-12T13:56:05.719579Z",
     "iopub.status.busy": "2022-03-12T13:56:05.718415Z",
     "iopub.status.idle": "2022-03-12T13:56:05.722930Z",
     "shell.execute_reply": "2022-03-12T13:56:05.723493Z",
     "shell.execute_reply.started": "2022-03-10T05:31:33.399725Z"
    },
    "papermill": {
     "duration": 0.024151,
     "end_time": "2022-03-12T13:56:05.723759",
     "exception": false,
     "start_time": "2022-03-12T13:56:05.699608",
     "status": "completed"
    },
    "tags": []
   },
   "outputs": [],
   "source": [
    "null_list = df_tamil_given[df_tamil_given['text'].isnull()].index.tolist()"
   ]
  },
  {
   "cell_type": "code",
   "execution_count": 7,
   "id": "3422ad9a",
   "metadata": {
    "execution": {
     "iopub.execute_input": "2022-03-12T13:56:05.762206Z",
     "iopub.status.busy": "2022-03-12T13:56:05.761491Z",
     "iopub.status.idle": "2022-03-12T13:56:05.764599Z",
     "shell.execute_reply": "2022-03-12T13:56:05.765309Z",
     "shell.execute_reply.started": "2022-03-10T05:31:33.415471Z"
    },
    "papermill": {
     "duration": 0.025822,
     "end_time": "2022-03-12T13:56:05.765487",
     "exception": false,
     "start_time": "2022-03-12T13:56:05.739665",
     "status": "completed"
    },
    "tags": []
   },
   "outputs": [],
   "source": [
    "df_tamil_given.dropna(how='any',axis=0,inplace=True)"
   ]
  },
  {
   "cell_type": "code",
   "execution_count": 8,
   "id": "f2faf3d7",
   "metadata": {
    "execution": {
     "iopub.execute_input": "2022-03-12T13:56:05.801300Z",
     "iopub.status.busy": "2022-03-12T13:56:05.800209Z",
     "iopub.status.idle": "2022-03-12T13:56:05.811052Z",
     "shell.execute_reply": "2022-03-12T13:56:05.811617Z",
     "shell.execute_reply.started": "2022-03-10T05:31:33.429021Z"
    },
    "papermill": {
     "duration": 0.029706,
     "end_time": "2022-03-12T13:56:05.811793",
     "exception": false,
     "start_time": "2022-03-12T13:56:05.782087",
     "status": "completed"
    },
    "tags": []
   },
   "outputs": [
    {
     "data": {
      "text/html": [
       "<div>\n",
       "<style scoped>\n",
       "    .dataframe tbody tr th:only-of-type {\n",
       "        vertical-align: middle;\n",
       "    }\n",
       "\n",
       "    .dataframe tbody tr th {\n",
       "        vertical-align: top;\n",
       "    }\n",
       "\n",
       "    .dataframe thead th {\n",
       "        text-align: right;\n",
       "    }\n",
       "</style>\n",
       "<table border=\"1\" class=\"dataframe\">\n",
       "  <thead>\n",
       "    <tr style=\"text-align: right;\">\n",
       "      <th></th>\n",
       "      <th>labels</th>\n",
       "      <th>text</th>\n",
       "    </tr>\n",
       "  </thead>\n",
       "  <tbody>\n",
       "    <tr>\n",
       "      <th>0</th>\n",
       "      <td>Xenophobia</td>\n",
       "      <td>அந்த தமிழன் ஒரு சாதிவெறி</td>\n",
       "    </tr>\n",
       "    <tr>\n",
       "      <th>1</th>\n",
       "      <td>Xenophobia</td>\n",
       "      <td>இந்த வந்தேரிக்கு தகுந்த பாடம் கற்பிப்பார்கள் த...</td>\n",
       "    </tr>\n",
       "    <tr>\n",
       "      <th>2</th>\n",
       "      <td>Misandry</td>\n",
       "      <td>எச்ச ராஜா நீ ஒரு மானங்கெட்ட தாயை விட நீ</td>\n",
       "    </tr>\n",
       "    <tr>\n",
       "      <th>3</th>\n",
       "      <td>Counter-speech</td>\n",
       "      <td>பணம் இருக்கும் இடத்தில் கேட்பது தவறு  இல்லை பண...</td>\n",
       "    </tr>\n",
       "    <tr>\n",
       "      <th>4</th>\n",
       "      <td>None-of-the-above</td>\n",
       "      <td>சக தோழியாக நினைத்து ஆதரவு தாருங்கள் நண்பர்களே!...</td>\n",
       "    </tr>\n",
       "    <tr>\n",
       "      <th>...</th>\n",
       "      <td>...</td>\n",
       "      <td>...</td>\n",
       "    </tr>\n",
       "    <tr>\n",
       "      <th>695</th>\n",
       "      <td>None-of-the-above</td>\n",
       "      <td>சினிவாசன் அய்யாக்கு நன்றி...</td>\n",
       "    </tr>\n",
       "    <tr>\n",
       "      <th>696</th>\n",
       "      <td>None-of-the-above</td>\n",
       "      <td>ஊருக்கே தெரியும் அவர் பிராமணன் என்று.அவர் ஒரு தலை</td>\n",
       "    </tr>\n",
       "    <tr>\n",
       "      <th>697</th>\n",
       "      <td>None-of-the-above</td>\n",
       "      <td>ஐயா அவர்கள் சரியான விளக்கம் பார்பனர்கள் வேறு ப...</td>\n",
       "    </tr>\n",
       "    <tr>\n",
       "      <th>698</th>\n",
       "      <td>Misogyny</td>\n",
       "      <td>Nandha Kumar  அட  நாயே; ; வந்தேறி பிராமண   நாய...</td>\n",
       "    </tr>\n",
       "    <tr>\n",
       "      <th>699</th>\n",
       "      <td>None-of-the-above</td>\n",
       "      <td>Sylvester Justin   நன்றி சுவீட்டி</td>\n",
       "    </tr>\n",
       "  </tbody>\n",
       "</table>\n",
       "<p>699 rows × 2 columns</p>\n",
       "</div>"
      ],
      "text/plain": [
       "                labels                                               text\n",
       "0           Xenophobia                           அந்த தமிழன் ஒரு சாதிவெறி\n",
       "1           Xenophobia  இந்த வந்தேரிக்கு தகுந்த பாடம் கற்பிப்பார்கள் த...\n",
       "2             Misandry            எச்ச ராஜா நீ ஒரு மானங்கெட்ட தாயை விட நீ\n",
       "3       Counter-speech  பணம் இருக்கும் இடத்தில் கேட்பது தவறு  இல்லை பண...\n",
       "4    None-of-the-above  சக தோழியாக நினைத்து ஆதரவு தாருங்கள் நண்பர்களே!...\n",
       "..                 ...                                                ...\n",
       "695  None-of-the-above                       சினிவாசன் அய்யாக்கு நன்றி...\n",
       "696  None-of-the-above  ஊருக்கே தெரியும் அவர் பிராமணன் என்று.அவர் ஒரு தலை\n",
       "697  None-of-the-above  ஐயா அவர்கள் சரியான விளக்கம் பார்பனர்கள் வேறு ப...\n",
       "698           Misogyny  Nandha Kumar  அட  நாயே; ; வந்தேறி பிராமண   நாய...\n",
       "699  None-of-the-above                  Sylvester Justin   நன்றி சுவீட்டி\n",
       "\n",
       "[699 rows x 2 columns]"
      ]
     },
     "execution_count": 8,
     "metadata": {},
     "output_type": "execute_result"
    }
   ],
   "source": [
    "df_tamil_given"
   ]
  },
  {
   "cell_type": "code",
   "execution_count": 9,
   "id": "9faad9ce",
   "metadata": {
    "execution": {
     "iopub.execute_input": "2022-03-12T13:56:05.847186Z",
     "iopub.status.busy": "2022-03-12T13:56:05.846517Z",
     "iopub.status.idle": "2022-03-12T13:56:05.852797Z",
     "shell.execute_reply": "2022-03-12T13:56:05.853475Z",
     "shell.execute_reply.started": "2022-03-10T05:31:45.589661Z"
    },
    "papermill": {
     "duration": 0.025711,
     "end_time": "2022-03-12T13:56:05.853670",
     "exception": false,
     "start_time": "2022-03-12T13:56:05.827959",
     "status": "completed"
    },
    "tags": []
   },
   "outputs": [],
   "source": [
    "df_tamil_en_given.dropna(how='any',axis=0,inplace=True)"
   ]
  },
  {
   "cell_type": "code",
   "execution_count": 10,
   "id": "2198b828",
   "metadata": {
    "execution": {
     "iopub.execute_input": "2022-03-12T13:56:05.890494Z",
     "iopub.status.busy": "2022-03-12T13:56:05.889652Z",
     "iopub.status.idle": "2022-03-12T13:56:05.905344Z",
     "shell.execute_reply": "2022-03-12T13:56:05.905962Z",
     "shell.execute_reply.started": "2022-03-10T05:31:46.755672Z"
    },
    "papermill": {
     "duration": 0.035582,
     "end_time": "2022-03-12T13:56:05.906205",
     "exception": false,
     "start_time": "2022-03-12T13:56:05.870623",
     "status": "completed"
    },
    "tags": []
   },
   "outputs": [],
   "source": [
    "df_tamil_mine_transformed = transform_df_labels(df_tamil_mine['label'])\n",
    "df_tamil_given_transformed = transform_df_labels(df_tamil_given['labels'])\n",
    "df_tamil_en_mine_transformed = transform_df_labels(df_tamil_en_mine['label'])\n",
    "df_tamil_en_given_transformed = transform_df_labels(df_tamil_en_given['labels'])\n"
   ]
  },
  {
   "cell_type": "code",
   "execution_count": 11,
   "id": "bdf0f125",
   "metadata": {
    "execution": {
     "iopub.execute_input": "2022-03-12T13:56:05.943954Z",
     "iopub.status.busy": "2022-03-12T13:56:05.943231Z",
     "iopub.status.idle": "2022-03-12T13:56:05.954320Z",
     "shell.execute_reply": "2022-03-12T13:56:05.954787Z",
     "shell.execute_reply.started": "2022-03-10T05:31:49.369927Z"
    },
    "papermill": {
     "duration": 0.031669,
     "end_time": "2022-03-12T13:56:05.954985",
     "exception": false,
     "start_time": "2022-03-12T13:56:05.923316",
     "status": "completed"
    },
    "tags": []
   },
   "outputs": [
    {
     "name": "stdout",
     "output_type": "stream",
     "text": [
      "                   precision    recall  f1-score   support\n",
      "\n",
      "   Counter-speech       0.33      0.17      0.23        47\n",
      "       Homophobia       0.00      0.00      0.00         8\n",
      "      Hope-Speech       0.00      0.00      0.00        26\n",
      "         Misandry       0.09      0.05      0.06       127\n",
      "         Misogyny       0.29      0.19      0.23        48\n",
      "None-of-the-above       0.64      0.86      0.73       416\n",
      "      Transphobic       0.00      0.00      0.00         2\n",
      "       Xenophobia       0.00      0.00      0.00        25\n",
      "\n",
      "         accuracy                           0.55       699\n",
      "        macro avg       0.17      0.16      0.16       699\n",
      "     weighted avg       0.44      0.55      0.48       699\n",
      "\n"
     ]
    }
   ],
   "source": [
    "target_names = ['Counter-speech',\n",
    "                             'Homophobia', \n",
    "                             'Hope-Speech', \n",
    "                             'Misandry', \n",
    "                             'Misogyny', \n",
    "                             'None-of-the-above', \n",
    "                             'Transphobic',\n",
    "                             'Xenophobia']\n",
    "print(classification_report(df_tamil_given_transformed ,df_tamil_mine_transformed,target_names=target_names))"
   ]
  },
  {
   "cell_type": "code",
   "execution_count": 12,
   "id": "a2383d2d",
   "metadata": {
    "execution": {
     "iopub.execute_input": "2022-03-12T13:56:05.995411Z",
     "iopub.status.busy": "2022-03-12T13:56:05.993221Z",
     "iopub.status.idle": "2022-03-12T13:56:06.006781Z",
     "shell.execute_reply": "2022-03-12T13:56:06.007474Z",
     "shell.execute_reply.started": "2022-03-10T05:32:18.182134Z"
    },
    "papermill": {
     "duration": 0.035192,
     "end_time": "2022-03-12T13:56:06.007900",
     "exception": false,
     "start_time": "2022-03-12T13:56:05.972708",
     "status": "completed"
    },
    "tags": []
   },
   "outputs": [
    {
     "name": "stdout",
     "output_type": "stream",
     "text": [
      "                   precision    recall  f1-score   support\n",
      "\n",
      "   Counter-speech       0.27      0.14      0.18        88\n",
      "       Homophobia       0.00      0.00      0.00        56\n",
      "      Hope-Speech       0.05      0.03      0.04        70\n",
      "         Misandry       0.19      0.04      0.07       292\n",
      "         Misogyny       0.02      0.02      0.02        57\n",
      "None-of-the-above       0.66      0.94      0.78      1141\n",
      "      Transphobic       0.00      0.00      0.00        58\n",
      "       Xenophobia       0.00      0.00      0.00        95\n",
      "\n",
      "         accuracy                           0.59      1857\n",
      "        macro avg       0.15      0.15      0.13      1857\n",
      "     weighted avg       0.45      0.59      0.50      1857\n",
      "\n"
     ]
    }
   ],
   "source": [
    "print(classification_report(df_tamil_en_given_transformed ,df_tamil_en_mine_transformed,target_names=target_names))"
   ]
  },
  {
   "cell_type": "code",
   "execution_count": null,
   "id": "48ed8c51",
   "metadata": {
    "papermill": {
     "duration": 0.016379,
     "end_time": "2022-03-12T13:56:06.042379",
     "exception": false,
     "start_time": "2022-03-12T13:56:06.026000",
     "status": "completed"
    },
    "tags": []
   },
   "outputs": [],
   "source": []
  }
 ],
 "metadata": {
  "kernelspec": {
   "display_name": "Python 3",
   "language": "python",
   "name": "python3"
  },
  "language_info": {
   "codemirror_mode": {
    "name": "ipython",
    "version": 3
   },
   "file_extension": ".py",
   "mimetype": "text/x-python",
   "name": "python",
   "nbconvert_exporter": "python",
   "pygments_lexer": "ipython3",
   "version": "3.7.12"
  },
  "papermill": {
   "default_parameters": {},
   "duration": 23.772793,
   "end_time": "2022-03-12T13:56:08.901374",
   "environment_variables": {},
   "exception": null,
   "input_path": "__notebook__.ipynb",
   "output_path": "__notebook__.ipynb",
   "parameters": {},
   "start_time": "2022-03-12T13:55:45.128581",
   "version": "2.3.3"
  }
 },
 "nbformat": 4,
 "nbformat_minor": 5
}
